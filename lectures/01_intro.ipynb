{
 "cells": [
  {
   "cell_type": "markdown",
   "id": "f66498aa-0b96-4bb2-9744-e9e1232dd21b",
   "metadata": {},
   "source": [
    "![](img/330-banner.png)"
   ]
  },
  {
   "cell_type": "markdown",
   "id": "11e19500-5b1a-47d4-929f-a4e4db5fe3b6",
   "metadata": {},
   "source": [
    "# Lecture 1: Course Introduction \n",
    "\n",
    "UBC 2023 Summer\n",
    "\n",
    "Instructor: Mehrdad Oveisi"
   ]
  },
  {
   "cell_type": "markdown",
   "id": "8d2b3888-1bcc-499e-890e-38904c3907f5",
   "metadata": {
    "slideshow": {
     "slide_type": "slide"
    }
   },
   "source": [
    "Course webpage: \n",
    "\n",
    "> https://github.com/UBC-CS/cpsc330-2023s\n"
   ]
  },
  {
   "cell_type": "markdown",
   "id": "eb3c8da9-d09e-4830-8a3e-296067ec24c4",
   "metadata": {
    "slideshow": {
     "slide_type": "slide"
    },
    "tags": []
   },
   "source": [
    "### Meet Eva (a fictitious persona)!\n",
    "\n",
    "![](img/eva-hi.png)\n",
    "\n",
    "Eva is among one of you. She has some experience in Python programming. She knows machine learning as a buzz word. During her recent internship, she has developed some interest and curiosity in the field. She wants to learn what is it and how to use it. She is a curious person and usually has a lot of questions!  "
   ]
  },
  {
   "cell_type": "markdown",
   "id": "f371b587-97b2-4fa1-8260-90458a91ee10",
   "metadata": {
    "slideshow": {
     "slide_type": "skip"
    }
   },
   "source": [
    "## Imports"
   ]
  },
  {
   "cell_type": "code",
   "execution_count": 4,
   "id": "05be1ee9-5aa2-4b6c-9b20-ccb6d482a60a",
   "metadata": {
    "slideshow": {
     "slide_type": "skip"
    }
   },
   "outputs": [],
   "source": [
    "import glob\n",
    "import os\n",
    "import re\n",
    "import sys\n",
    "from collections import Counter, defaultdict\n",
    "\n",
    "import matplotlib.pyplot as plt\n",
    "import numpy as np\n",
    "import pandas as pd\n",
    "\n",
    "sys.path.append(\"code/.\")\n",
    "import graphviz\n",
    "import IPython\n",
    "import mglearn\n",
    "from IPython.display import HTML, display\n",
    "from plotting_functions import *\n",
    "from sklearn.dummy import DummyClassifier\n",
    "from sklearn.feature_extraction.text import CountVectorizer\n",
    "from sklearn.linear_model import LinearRegression, LogisticRegression\n",
    "from sklearn.model_selection import train_test_split\n",
    "from sklearn.pipeline import Pipeline, make_pipeline\n",
    "from sklearn.tree import DecisionTreeClassifier, DecisionTreeRegressor, export_graphviz\n",
    "from utils import *\n",
    "\n",
    "plt.rcParams[\"font.size\"] = 16\n",
    "pd.set_option(\"display.max_colwidth\", 200)"
   ]
  },
  {
   "cell_type": "markdown",
   "id": "21fab386-d11d-4f52-8316-0fe7498dec04",
   "metadata": {
    "slideshow": {
     "slide_type": "skip"
    }
   },
   "source": [
    "## Learning outcomes \n",
    "From this lecture, you will be able to \n",
    "\n",
    "- explain the motivation to study machine learning;\n",
    "- explain supervised machine learning; \n",
    "- navigate through the course material;\n",
    "- be familiar with the policies and how the class is going to run;"
   ]
  },
  {
   "cell_type": "markdown",
   "id": "eff2184c-6a3e-45d6-9316-b9c4567052da",
   "metadata": {},
   "source": [
    "<br><br>"
   ]
  },
  {
   "cell_type": "markdown",
   "id": "e2188207-a544-4d29-acee-534686767b18",
   "metadata": {
    "slideshow": {
     "slide_type": "slide"
    }
   },
   "source": [
    "## Why machine learning (ML)? [[video](https://www.youtube.com/watch?v=-1hTcS5ZE4w&t=1s)]"
   ]
  },
  {
   "cell_type": "markdown",
   "id": "cbe5180a-05be-4f3a-af63-8b642c8655d2",
   "metadata": {},
   "source": [
    "Check out [the accompanying video](https://www.youtube.com/watch?v=-1hTcS5ZE4w&t=1s) on this material."
   ]
  },
  {
   "cell_type": "markdown",
   "id": "e3fd30e2-09cf-42a8-9fb9-c2162492ac10",
   "metadata": {
    "slideshow": {
     "slide_type": "slide"
    }
   },
   "source": [
    "### Prevalence of ML\n",
    "\n",
    "Let's look at some examples. \n",
    "\n",
    "<!-- <img src=\"img/ml-examples.png\" height=\"1000\" width=\"1000\">  -->\n",
    "![](img/ml-examples.png)\n"
   ]
  },
  {
   "cell_type": "markdown",
   "id": "3173c908-063f-42d1-9d5b-b8276b95dff0",
   "metadata": {
    "slideshow": {
     "slide_type": "slide"
    }
   },
   "source": [
    "- Image sources \n",
    "    - [Voice assistants](https://geeksfl.com/blog/best-voice-assistant/)\n",
    "    - [Google News](https://news.google.com)    \n",
    "    - [Recommendation systems](https://en.wikipedia.org/wiki/Recommender_system)\n",
    "    - [Face Recognition source](https://startupleague.online/blog/3dss-tech-facial-recognition-technology/)\n",
    "    - [Auto-completion](https://9to5google.com/2020/08/10/android-11-autofill-keyboard/)\n",
    "    - [Stock market prediction](https://hbr.org/2019/12/what-machine-learning-will-mean-for-asset-managers)    \n",
    "    - [Character recognition](https://en.wikipedia.org/wiki/Handwriting_recognition)    \n",
    "    - [AlphaGo](https://deepmind.com/alphago-china)\n",
    "    - [Self-driving cars](https://mc.ai/artificial-intelligence-in-self-driving-cars%E2%80%8A-%E2%80%8Ahow-far-have-we-gotten/)\n",
    "    - [Drug discovery](https://www.nature.com/articles/d41586-018-05267-x)\n",
    "    - [Cancer detection](https://venturebeat.com/2018/10/12/google-ai-claims-99-accuracy-in-metastatic-breast-cancer-detection/)"
   ]
  },
  {
   "cell_type": "markdown",
   "id": "0dc9c455-d58e-4168-bd21-3f2f160050f2",
   "metadata": {
    "slideshow": {
     "slide_type": "slide"
    }
   },
   "source": [
    "### Saving time and scaling products \n",
    "\n",
    "- Imagine writing a program for **spam identification**, i.e., whether an email is spam or non-spam. \n",
    "- *Traditional programming*\n",
    "    - Come up with **rules** using human understanding of spam messages. \n",
    "    - Time consuming and hard to come up with robust set of rules. \n",
    "- *Machine learning*\n",
    "    - Collect large amount of **data of spam and non-spam** emails and let the machine learning algorithm figure out rules. \n",
    "- With machine learning, you're likely to \n",
    "    - **Save time**\n",
    "    - Customize and **scale** products "
   ]
  },
  {
   "cell_type": "markdown",
   "id": "d6785fa9-4817-44ff-adc1-c3b78b811a54",
   "metadata": {
    "slideshow": {
     "slide_type": "skip"
    }
   },
   "source": [
    "<br><br>"
   ]
  },
  {
   "cell_type": "markdown",
   "id": "c9c7aae1-e956-4616-86d9-d5acec66de50",
   "metadata": {
    "slideshow": {
     "slide_type": "slide"
    }
   },
   "source": [
    "## Supervised machine learning "
   ]
  },
  {
   "cell_type": "markdown",
   "id": "813b1ccb-5a6b-428a-9fc3-d237d7786f4c",
   "metadata": {
    "slideshow": {
     "slide_type": "slide"
    }
   },
   "source": [
    "### Types of machine learning\n",
    "\n",
    "Here are some typical learning problems. \n",
    "\n",
    "- **Supervised learning** ([Gmail spam filtering](https://support.google.com/a/answer/2368132?hl=en))\n",
    "    - Training a model from input data and its corresponding targets to predict targets for new examples.     \n",
    "- Unsupervised learning ([Google News](https://news.google.com/))\n",
    "    - Training a model to find patterns in a dataset, typically an unlabeled dataset.\n",
    "- Reinforcement learning ([AlphaGo](https://deepmind.com/research/case-studies/alphago-the-story-so-far))\n",
    "    - A family of algorithms for finding suitable actions to take in a given situation in order to maximize a reward. \n",
    "- Recommendation systems ([Amazon item recommendation system](https://www.cs.umd.edu/~samir/498/Amazon-Recommendations.pdf))\n",
    "    - Predict the \"rating\" or \"preference\" a user would give to an item.    "
   ]
  },
  {
   "cell_type": "markdown",
   "id": "325190f1-78b3-46d5-9c08-27f534424811",
   "metadata": {
    "slideshow": {
     "slide_type": "slide"
    }
   },
   "source": [
    "### What is supervised machine learning (ML)? \n",
    "\n",
    "- Training data comprises a set of observations ($X$) and their corresponding targets ($y$). \n",
    "- We wish to find a model function $f$ that relates $X$ to $y$.\n",
    "- We use the model function to predict targets of new examples. \n",
    "\n",
    "![](img/sup-learning.png)\n",
    "<!-- <img src=\"img/sup-learning.png\" height=\"800\" width=\"800\">  -->\n"
   ]
  },
  {
   "cell_type": "markdown",
   "id": "654ed546-6135-40b8-ac7a-fc8b16980281",
   "metadata": {
    "slideshow": {
     "slide_type": "slide"
    }
   },
   "source": [
    "### Example: Predict whether a message is spam or not "
   ]
  },
  {
   "cell_type": "markdown",
   "id": "b7329c29-118e-4fae-b670-69091120258a",
   "metadata": {
    "tags": []
   },
   "source": [
    "#### Input features $X$ and target $y$"
   ]
  },
  {
   "cell_type": "markdown",
   "id": "9e13ac7b-ebcb-4d39-b869-7b8131f087fb",
   "metadata": {},
   "source": [
    "Do not worry about the code and syntax for now. \n"
   ]
  },
  {
   "cell_type": "markdown",
   "id": "ba48d1a2-425a-409e-adf6-1bde99e2fe8d",
   "metadata": {
    "slideshow": {
     "slide_type": "-"
    }
   },
   "source": [
    "Download SMS Spam Collection Dataset from [here](https://www.kaggle.com/uciml/sms-spam-collection-dataset)."
   ]
  },
  {
   "cell_type": "code",
   "execution_count": 5,
   "id": "f4511fed-6251-4301-9217-240723c2075e",
   "metadata": {
    "tags": [
     "hide-input"
    ]
   },
   "outputs": [
    {
     "ename": "FileNotFoundError",
     "evalue": "[Errno 2] No such file or directory: 'data/spam.csv'",
     "output_type": "error",
     "traceback": [
      "\u001b[0;31m---------------------------------------------------------------------------\u001b[0m",
      "\u001b[0;31mFileNotFoundError\u001b[0m                         Traceback (most recent call last)",
      "Cell \u001b[0;32mIn[5], line 1\u001b[0m\n\u001b[0;32m----> 1\u001b[0m sms_df \u001b[38;5;241m=\u001b[39m \u001b[43mpd\u001b[49m\u001b[38;5;241;43m.\u001b[39;49m\u001b[43mread_csv\u001b[49m\u001b[43m(\u001b[49m\u001b[38;5;124;43m\"\u001b[39;49m\u001b[38;5;124;43mdata/spam.csv\u001b[39;49m\u001b[38;5;124;43m\"\u001b[39;49m\u001b[43m,\u001b[49m\u001b[43m \u001b[49m\u001b[43mencoding\u001b[49m\u001b[38;5;241;43m=\u001b[39;49m\u001b[38;5;124;43m\"\u001b[39;49m\u001b[38;5;124;43mlatin-1\u001b[39;49m\u001b[38;5;124;43m\"\u001b[39;49m\u001b[43m)\u001b[49m\n\u001b[1;32m      2\u001b[0m sms_df \u001b[38;5;241m=\u001b[39m sms_df\u001b[38;5;241m.\u001b[39mdrop(columns \u001b[38;5;241m=\u001b[39m [\u001b[38;5;124m\"\u001b[39m\u001b[38;5;124mUnnamed: 2\u001b[39m\u001b[38;5;124m\"\u001b[39m, \u001b[38;5;124m\"\u001b[39m\u001b[38;5;124mUnnamed: 3\u001b[39m\u001b[38;5;124m\"\u001b[39m, \u001b[38;5;124m\"\u001b[39m\u001b[38;5;124mUnnamed: 4\u001b[39m\u001b[38;5;124m\"\u001b[39m])\n\u001b[1;32m      3\u001b[0m sms_df \u001b[38;5;241m=\u001b[39m sms_df\u001b[38;5;241m.\u001b[39mrename(columns\u001b[38;5;241m=\u001b[39m{\u001b[38;5;124m\"\u001b[39m\u001b[38;5;124mv1\u001b[39m\u001b[38;5;124m\"\u001b[39m: \u001b[38;5;124m\"\u001b[39m\u001b[38;5;124mtarget\u001b[39m\u001b[38;5;124m\"\u001b[39m, \u001b[38;5;124m\"\u001b[39m\u001b[38;5;124mv2\u001b[39m\u001b[38;5;124m\"\u001b[39m: \u001b[38;5;124m\"\u001b[39m\u001b[38;5;124msms\u001b[39m\u001b[38;5;124m\"\u001b[39m})\n",
      "File \u001b[0;32m~/miniconda3/envs/cpsc330/lib/python3.10/site-packages/pandas/util/_decorators.py:211\u001b[0m, in \u001b[0;36mdeprecate_kwarg.<locals>._deprecate_kwarg.<locals>.wrapper\u001b[0;34m(*args, **kwargs)\u001b[0m\n\u001b[1;32m    209\u001b[0m     \u001b[38;5;28;01melse\u001b[39;00m:\n\u001b[1;32m    210\u001b[0m         kwargs[new_arg_name] \u001b[38;5;241m=\u001b[39m new_arg_value\n\u001b[0;32m--> 211\u001b[0m \u001b[38;5;28;01mreturn\u001b[39;00m \u001b[43mfunc\u001b[49m\u001b[43m(\u001b[49m\u001b[38;5;241;43m*\u001b[39;49m\u001b[43margs\u001b[49m\u001b[43m,\u001b[49m\u001b[43m \u001b[49m\u001b[38;5;241;43m*\u001b[39;49m\u001b[38;5;241;43m*\u001b[39;49m\u001b[43mkwargs\u001b[49m\u001b[43m)\u001b[49m\n",
      "File \u001b[0;32m~/miniconda3/envs/cpsc330/lib/python3.10/site-packages/pandas/util/_decorators.py:331\u001b[0m, in \u001b[0;36mdeprecate_nonkeyword_arguments.<locals>.decorate.<locals>.wrapper\u001b[0;34m(*args, **kwargs)\u001b[0m\n\u001b[1;32m    325\u001b[0m \u001b[38;5;28;01mif\u001b[39;00m \u001b[38;5;28mlen\u001b[39m(args) \u001b[38;5;241m>\u001b[39m num_allow_args:\n\u001b[1;32m    326\u001b[0m     warnings\u001b[38;5;241m.\u001b[39mwarn(\n\u001b[1;32m    327\u001b[0m         msg\u001b[38;5;241m.\u001b[39mformat(arguments\u001b[38;5;241m=\u001b[39m_format_argument_list(allow_args)),\n\u001b[1;32m    328\u001b[0m         \u001b[38;5;167;01mFutureWarning\u001b[39;00m,\n\u001b[1;32m    329\u001b[0m         stacklevel\u001b[38;5;241m=\u001b[39mfind_stack_level(),\n\u001b[1;32m    330\u001b[0m     )\n\u001b[0;32m--> 331\u001b[0m \u001b[38;5;28;01mreturn\u001b[39;00m \u001b[43mfunc\u001b[49m\u001b[43m(\u001b[49m\u001b[38;5;241;43m*\u001b[39;49m\u001b[43margs\u001b[49m\u001b[43m,\u001b[49m\u001b[43m \u001b[49m\u001b[38;5;241;43m*\u001b[39;49m\u001b[38;5;241;43m*\u001b[39;49m\u001b[43mkwargs\u001b[49m\u001b[43m)\u001b[49m\n",
      "File \u001b[0;32m~/miniconda3/envs/cpsc330/lib/python3.10/site-packages/pandas/io/parsers/readers.py:950\u001b[0m, in \u001b[0;36mread_csv\u001b[0;34m(filepath_or_buffer, sep, delimiter, header, names, index_col, usecols, squeeze, prefix, mangle_dupe_cols, dtype, engine, converters, true_values, false_values, skipinitialspace, skiprows, skipfooter, nrows, na_values, keep_default_na, na_filter, verbose, skip_blank_lines, parse_dates, infer_datetime_format, keep_date_col, date_parser, dayfirst, cache_dates, iterator, chunksize, compression, thousands, decimal, lineterminator, quotechar, quoting, doublequote, escapechar, comment, encoding, encoding_errors, dialect, error_bad_lines, warn_bad_lines, on_bad_lines, delim_whitespace, low_memory, memory_map, float_precision, storage_options)\u001b[0m\n\u001b[1;32m    935\u001b[0m kwds_defaults \u001b[38;5;241m=\u001b[39m _refine_defaults_read(\n\u001b[1;32m    936\u001b[0m     dialect,\n\u001b[1;32m    937\u001b[0m     delimiter,\n\u001b[0;32m   (...)\u001b[0m\n\u001b[1;32m    946\u001b[0m     defaults\u001b[38;5;241m=\u001b[39m{\u001b[38;5;124m\"\u001b[39m\u001b[38;5;124mdelimiter\u001b[39m\u001b[38;5;124m\"\u001b[39m: \u001b[38;5;124m\"\u001b[39m\u001b[38;5;124m,\u001b[39m\u001b[38;5;124m\"\u001b[39m},\n\u001b[1;32m    947\u001b[0m )\n\u001b[1;32m    948\u001b[0m kwds\u001b[38;5;241m.\u001b[39mupdate(kwds_defaults)\n\u001b[0;32m--> 950\u001b[0m \u001b[38;5;28;01mreturn\u001b[39;00m \u001b[43m_read\u001b[49m\u001b[43m(\u001b[49m\u001b[43mfilepath_or_buffer\u001b[49m\u001b[43m,\u001b[49m\u001b[43m \u001b[49m\u001b[43mkwds\u001b[49m\u001b[43m)\u001b[49m\n",
      "File \u001b[0;32m~/miniconda3/envs/cpsc330/lib/python3.10/site-packages/pandas/io/parsers/readers.py:605\u001b[0m, in \u001b[0;36m_read\u001b[0;34m(filepath_or_buffer, kwds)\u001b[0m\n\u001b[1;32m    602\u001b[0m _validate_names(kwds\u001b[38;5;241m.\u001b[39mget(\u001b[38;5;124m\"\u001b[39m\u001b[38;5;124mnames\u001b[39m\u001b[38;5;124m\"\u001b[39m, \u001b[38;5;28;01mNone\u001b[39;00m))\n\u001b[1;32m    604\u001b[0m \u001b[38;5;66;03m# Create the parser.\u001b[39;00m\n\u001b[0;32m--> 605\u001b[0m parser \u001b[38;5;241m=\u001b[39m \u001b[43mTextFileReader\u001b[49m\u001b[43m(\u001b[49m\u001b[43mfilepath_or_buffer\u001b[49m\u001b[43m,\u001b[49m\u001b[43m \u001b[49m\u001b[38;5;241;43m*\u001b[39;49m\u001b[38;5;241;43m*\u001b[39;49m\u001b[43mkwds\u001b[49m\u001b[43m)\u001b[49m\n\u001b[1;32m    607\u001b[0m \u001b[38;5;28;01mif\u001b[39;00m chunksize \u001b[38;5;129;01mor\u001b[39;00m iterator:\n\u001b[1;32m    608\u001b[0m     \u001b[38;5;28;01mreturn\u001b[39;00m parser\n",
      "File \u001b[0;32m~/miniconda3/envs/cpsc330/lib/python3.10/site-packages/pandas/io/parsers/readers.py:1442\u001b[0m, in \u001b[0;36mTextFileReader.__init__\u001b[0;34m(self, f, engine, **kwds)\u001b[0m\n\u001b[1;32m   1439\u001b[0m     \u001b[38;5;28mself\u001b[39m\u001b[38;5;241m.\u001b[39moptions[\u001b[38;5;124m\"\u001b[39m\u001b[38;5;124mhas_index_names\u001b[39m\u001b[38;5;124m\"\u001b[39m] \u001b[38;5;241m=\u001b[39m kwds[\u001b[38;5;124m\"\u001b[39m\u001b[38;5;124mhas_index_names\u001b[39m\u001b[38;5;124m\"\u001b[39m]\n\u001b[1;32m   1441\u001b[0m \u001b[38;5;28mself\u001b[39m\u001b[38;5;241m.\u001b[39mhandles: IOHandles \u001b[38;5;241m|\u001b[39m \u001b[38;5;28;01mNone\u001b[39;00m \u001b[38;5;241m=\u001b[39m \u001b[38;5;28;01mNone\u001b[39;00m\n\u001b[0;32m-> 1442\u001b[0m \u001b[38;5;28mself\u001b[39m\u001b[38;5;241m.\u001b[39m_engine \u001b[38;5;241m=\u001b[39m \u001b[38;5;28;43mself\u001b[39;49m\u001b[38;5;241;43m.\u001b[39;49m\u001b[43m_make_engine\u001b[49m\u001b[43m(\u001b[49m\u001b[43mf\u001b[49m\u001b[43m,\u001b[49m\u001b[43m \u001b[49m\u001b[38;5;28;43mself\u001b[39;49m\u001b[38;5;241;43m.\u001b[39;49m\u001b[43mengine\u001b[49m\u001b[43m)\u001b[49m\n",
      "File \u001b[0;32m~/miniconda3/envs/cpsc330/lib/python3.10/site-packages/pandas/io/parsers/readers.py:1735\u001b[0m, in \u001b[0;36mTextFileReader._make_engine\u001b[0;34m(self, f, engine)\u001b[0m\n\u001b[1;32m   1733\u001b[0m     \u001b[38;5;28;01mif\u001b[39;00m \u001b[38;5;124m\"\u001b[39m\u001b[38;5;124mb\u001b[39m\u001b[38;5;124m\"\u001b[39m \u001b[38;5;129;01mnot\u001b[39;00m \u001b[38;5;129;01min\u001b[39;00m mode:\n\u001b[1;32m   1734\u001b[0m         mode \u001b[38;5;241m+\u001b[39m\u001b[38;5;241m=\u001b[39m \u001b[38;5;124m\"\u001b[39m\u001b[38;5;124mb\u001b[39m\u001b[38;5;124m\"\u001b[39m\n\u001b[0;32m-> 1735\u001b[0m \u001b[38;5;28mself\u001b[39m\u001b[38;5;241m.\u001b[39mhandles \u001b[38;5;241m=\u001b[39m \u001b[43mget_handle\u001b[49m\u001b[43m(\u001b[49m\n\u001b[1;32m   1736\u001b[0m \u001b[43m    \u001b[49m\u001b[43mf\u001b[49m\u001b[43m,\u001b[49m\n\u001b[1;32m   1737\u001b[0m \u001b[43m    \u001b[49m\u001b[43mmode\u001b[49m\u001b[43m,\u001b[49m\n\u001b[1;32m   1738\u001b[0m \u001b[43m    \u001b[49m\u001b[43mencoding\u001b[49m\u001b[38;5;241;43m=\u001b[39;49m\u001b[38;5;28;43mself\u001b[39;49m\u001b[38;5;241;43m.\u001b[39;49m\u001b[43moptions\u001b[49m\u001b[38;5;241;43m.\u001b[39;49m\u001b[43mget\u001b[49m\u001b[43m(\u001b[49m\u001b[38;5;124;43m\"\u001b[39;49m\u001b[38;5;124;43mencoding\u001b[39;49m\u001b[38;5;124;43m\"\u001b[39;49m\u001b[43m,\u001b[49m\u001b[43m \u001b[49m\u001b[38;5;28;43;01mNone\u001b[39;49;00m\u001b[43m)\u001b[49m\u001b[43m,\u001b[49m\n\u001b[1;32m   1739\u001b[0m \u001b[43m    \u001b[49m\u001b[43mcompression\u001b[49m\u001b[38;5;241;43m=\u001b[39;49m\u001b[38;5;28;43mself\u001b[39;49m\u001b[38;5;241;43m.\u001b[39;49m\u001b[43moptions\u001b[49m\u001b[38;5;241;43m.\u001b[39;49m\u001b[43mget\u001b[49m\u001b[43m(\u001b[49m\u001b[38;5;124;43m\"\u001b[39;49m\u001b[38;5;124;43mcompression\u001b[39;49m\u001b[38;5;124;43m\"\u001b[39;49m\u001b[43m,\u001b[49m\u001b[43m \u001b[49m\u001b[38;5;28;43;01mNone\u001b[39;49;00m\u001b[43m)\u001b[49m\u001b[43m,\u001b[49m\n\u001b[1;32m   1740\u001b[0m \u001b[43m    \u001b[49m\u001b[43mmemory_map\u001b[49m\u001b[38;5;241;43m=\u001b[39;49m\u001b[38;5;28;43mself\u001b[39;49m\u001b[38;5;241;43m.\u001b[39;49m\u001b[43moptions\u001b[49m\u001b[38;5;241;43m.\u001b[39;49m\u001b[43mget\u001b[49m\u001b[43m(\u001b[49m\u001b[38;5;124;43m\"\u001b[39;49m\u001b[38;5;124;43mmemory_map\u001b[39;49m\u001b[38;5;124;43m\"\u001b[39;49m\u001b[43m,\u001b[49m\u001b[43m \u001b[49m\u001b[38;5;28;43;01mFalse\u001b[39;49;00m\u001b[43m)\u001b[49m\u001b[43m,\u001b[49m\n\u001b[1;32m   1741\u001b[0m \u001b[43m    \u001b[49m\u001b[43mis_text\u001b[49m\u001b[38;5;241;43m=\u001b[39;49m\u001b[43mis_text\u001b[49m\u001b[43m,\u001b[49m\n\u001b[1;32m   1742\u001b[0m \u001b[43m    \u001b[49m\u001b[43merrors\u001b[49m\u001b[38;5;241;43m=\u001b[39;49m\u001b[38;5;28;43mself\u001b[39;49m\u001b[38;5;241;43m.\u001b[39;49m\u001b[43moptions\u001b[49m\u001b[38;5;241;43m.\u001b[39;49m\u001b[43mget\u001b[49m\u001b[43m(\u001b[49m\u001b[38;5;124;43m\"\u001b[39;49m\u001b[38;5;124;43mencoding_errors\u001b[39;49m\u001b[38;5;124;43m\"\u001b[39;49m\u001b[43m,\u001b[49m\u001b[43m \u001b[49m\u001b[38;5;124;43m\"\u001b[39;49m\u001b[38;5;124;43mstrict\u001b[39;49m\u001b[38;5;124;43m\"\u001b[39;49m\u001b[43m)\u001b[49m\u001b[43m,\u001b[49m\n\u001b[1;32m   1743\u001b[0m \u001b[43m    \u001b[49m\u001b[43mstorage_options\u001b[49m\u001b[38;5;241;43m=\u001b[39;49m\u001b[38;5;28;43mself\u001b[39;49m\u001b[38;5;241;43m.\u001b[39;49m\u001b[43moptions\u001b[49m\u001b[38;5;241;43m.\u001b[39;49m\u001b[43mget\u001b[49m\u001b[43m(\u001b[49m\u001b[38;5;124;43m\"\u001b[39;49m\u001b[38;5;124;43mstorage_options\u001b[39;49m\u001b[38;5;124;43m\"\u001b[39;49m\u001b[43m,\u001b[49m\u001b[43m \u001b[49m\u001b[38;5;28;43;01mNone\u001b[39;49;00m\u001b[43m)\u001b[49m\u001b[43m,\u001b[49m\n\u001b[1;32m   1744\u001b[0m \u001b[43m\u001b[49m\u001b[43m)\u001b[49m\n\u001b[1;32m   1745\u001b[0m \u001b[38;5;28;01massert\u001b[39;00m \u001b[38;5;28mself\u001b[39m\u001b[38;5;241m.\u001b[39mhandles \u001b[38;5;129;01mis\u001b[39;00m \u001b[38;5;129;01mnot\u001b[39;00m \u001b[38;5;28;01mNone\u001b[39;00m\n\u001b[1;32m   1746\u001b[0m f \u001b[38;5;241m=\u001b[39m \u001b[38;5;28mself\u001b[39m\u001b[38;5;241m.\u001b[39mhandles\u001b[38;5;241m.\u001b[39mhandle\n",
      "File \u001b[0;32m~/miniconda3/envs/cpsc330/lib/python3.10/site-packages/pandas/io/common.py:856\u001b[0m, in \u001b[0;36mget_handle\u001b[0;34m(path_or_buf, mode, encoding, compression, memory_map, is_text, errors, storage_options)\u001b[0m\n\u001b[1;32m    851\u001b[0m \u001b[38;5;28;01melif\u001b[39;00m \u001b[38;5;28misinstance\u001b[39m(handle, \u001b[38;5;28mstr\u001b[39m):\n\u001b[1;32m    852\u001b[0m     \u001b[38;5;66;03m# Check whether the filename is to be opened in binary mode.\u001b[39;00m\n\u001b[1;32m    853\u001b[0m     \u001b[38;5;66;03m# Binary mode does not support 'encoding' and 'newline'.\u001b[39;00m\n\u001b[1;32m    854\u001b[0m     \u001b[38;5;28;01mif\u001b[39;00m ioargs\u001b[38;5;241m.\u001b[39mencoding \u001b[38;5;129;01mand\u001b[39;00m \u001b[38;5;124m\"\u001b[39m\u001b[38;5;124mb\u001b[39m\u001b[38;5;124m\"\u001b[39m \u001b[38;5;129;01mnot\u001b[39;00m \u001b[38;5;129;01min\u001b[39;00m ioargs\u001b[38;5;241m.\u001b[39mmode:\n\u001b[1;32m    855\u001b[0m         \u001b[38;5;66;03m# Encoding\u001b[39;00m\n\u001b[0;32m--> 856\u001b[0m         handle \u001b[38;5;241m=\u001b[39m \u001b[38;5;28;43mopen\u001b[39;49m\u001b[43m(\u001b[49m\n\u001b[1;32m    857\u001b[0m \u001b[43m            \u001b[49m\u001b[43mhandle\u001b[49m\u001b[43m,\u001b[49m\n\u001b[1;32m    858\u001b[0m \u001b[43m            \u001b[49m\u001b[43mioargs\u001b[49m\u001b[38;5;241;43m.\u001b[39;49m\u001b[43mmode\u001b[49m\u001b[43m,\u001b[49m\n\u001b[1;32m    859\u001b[0m \u001b[43m            \u001b[49m\u001b[43mencoding\u001b[49m\u001b[38;5;241;43m=\u001b[39;49m\u001b[43mioargs\u001b[49m\u001b[38;5;241;43m.\u001b[39;49m\u001b[43mencoding\u001b[49m\u001b[43m,\u001b[49m\n\u001b[1;32m    860\u001b[0m \u001b[43m            \u001b[49m\u001b[43merrors\u001b[49m\u001b[38;5;241;43m=\u001b[39;49m\u001b[43merrors\u001b[49m\u001b[43m,\u001b[49m\n\u001b[1;32m    861\u001b[0m \u001b[43m            \u001b[49m\u001b[43mnewline\u001b[49m\u001b[38;5;241;43m=\u001b[39;49m\u001b[38;5;124;43m\"\u001b[39;49m\u001b[38;5;124;43m\"\u001b[39;49m\u001b[43m,\u001b[49m\n\u001b[1;32m    862\u001b[0m \u001b[43m        \u001b[49m\u001b[43m)\u001b[49m\n\u001b[1;32m    863\u001b[0m     \u001b[38;5;28;01melse\u001b[39;00m:\n\u001b[1;32m    864\u001b[0m         \u001b[38;5;66;03m# Binary mode\u001b[39;00m\n\u001b[1;32m    865\u001b[0m         handle \u001b[38;5;241m=\u001b[39m \u001b[38;5;28mopen\u001b[39m(handle, ioargs\u001b[38;5;241m.\u001b[39mmode)\n",
      "\u001b[0;31mFileNotFoundError\u001b[0m: [Errno 2] No such file or directory: 'data/spam.csv'"
     ]
    }
   ],
   "source": [
    "sms_df = pd.read_csv(\"data/spam.csv\", encoding=\"latin-1\")\n",
    "sms_df = sms_df.drop(columns = [\"Unnamed: 2\", \"Unnamed: 3\", \"Unnamed: 4\"])\n",
    "sms_df = sms_df.rename(columns={\"v1\": \"target\", \"v2\": \"sms\"})\n",
    "train_df, test_df = train_test_split(sms_df, test_size=0.10, random_state=42)\n",
    "train_df.head().style.set_properties(**{\"text-align\": \"left\"})"
   ]
  },
  {
   "cell_type": "markdown",
   "id": "f8fa2de9-b37a-40f3-9189-b84f940903fd",
   "metadata": {
    "slideshow": {
     "slide_type": "slide"
    }
   },
   "source": [
    "#### Training a supervised machine learning model with $X$ and $y$"
   ]
  },
  {
   "cell_type": "code",
   "execution_count": null,
   "id": "6f38510c-ad87-4d48-b267-cfe7bf44aa83",
   "metadata": {
    "slideshow": {
     "slide_type": "-"
    }
   },
   "outputs": [],
   "source": [
    "X_train, y_train = train_df[\"sms\"], train_df[\"target\"]\n",
    "X_test, y_test = test_df[\"sms\"], test_df[\"target\"]\n",
    "\n",
    "clf = Pipeline(\n",
    "    [\n",
    "        (\"vect\", CountVectorizer(max_features=5000)),\n",
    "        (\"clf\", LogisticRegression(max_iter=5000)),\n",
    "    ]\n",
    ")\n",
    "clf.fit(X_train, y_train);"
   ]
  },
  {
   "cell_type": "markdown",
   "id": "77f1152c-5952-47a6-b8dd-30ddb444ac9c",
   "metadata": {
    "slideshow": {
     "slide_type": "slide"
    }
   },
   "source": [
    "#### Predicting on unseen data using the trained model"
   ]
  },
  {
   "cell_type": "code",
   "execution_count": null,
   "id": "e20d2921-a8d0-4b63-8756-3bb5fb5c869a",
   "metadata": {},
   "outputs": [],
   "source": [
    "pd.DataFrame(X_test[0:4]).style.set_properties(**{\"text-align\": \"left\"})"
   ]
  },
  {
   "cell_type": "markdown",
   "id": "5d1e8469-e307-4136-a794-02b404de9756",
   "metadata": {},
   "source": [
    "```{note}\n",
    "Do not worry about the code and syntax for now. \n",
    "```"
   ]
  },
  {
   "cell_type": "code",
   "execution_count": null,
   "id": "ec41e07b-5c3b-4a44-ad64-519c9dc4bda7",
   "metadata": {
    "slideshow": {
     "slide_type": "slide"
    }
   },
   "outputs": [],
   "source": [
    "pred_dict = {\n",
    "    \"sms\": X_test[0:4],\n",
    "    \"spam\": y_test[0:4],  # actual spam\n",
    "    \"spam_predictions\": clf.predict(X_test[0:4]),\n",
    "}\n",
    "pred_df = pd.DataFrame(pred_dict)\n",
    "pred_df.style.set_properties(**{\"text-align\": \"left\"})"
   ]
  },
  {
   "cell_type": "markdown",
   "id": "7a097504-cfaa-4ad1-9911-78a93ab4b3ba",
   "metadata": {},
   "source": [
    "**We have accurately predicted labels for the unseen text messages above!**"
   ]
  },
  {
   "cell_type": "markdown",
   "id": "f732497a-8cf9-40fc-8ee5-7f991bac314c",
   "metadata": {},
   "source": [
    "<br><br>"
   ]
  },
  {
   "cell_type": "markdown",
   "id": "212f3d9a-87d1-482a-87de-ef52974ecbbf",
   "metadata": {
    "slideshow": {
     "slide_type": "slide"
    }
   },
   "source": [
    "### (Supervised) machine learning: popular definition \n",
    "<blockquote>\n",
    "A field of study that gives computers the ability to learn without being explicitly programmed. <br> -- Arthur Samuel (1959)\n",
    "</blockquote>\n",
    "\n",
    "ML is a different way to think about problem solving.\n",
    "\n",
    "![](img/traditional-programming-vs-ML.png)\n",
    "<!-- <img src=\"img/traditional-programming-vs-ML.png\" height=\"700\" width=\"700\">  -->"
   ]
  },
  {
   "cell_type": "markdown",
   "id": "3ecf610e-1da9-4331-8884-7c7c0a70b85e",
   "metadata": {
    "slideshow": {
     "slide_type": "slide"
    }
   },
   "source": [
    "### Examples\n",
    "\n",
    "Let's look at some concrete examples of supervised machine learning. "
   ]
  },
  {
   "cell_type": "markdown",
   "id": "09ef1355-a85b-406a-9fcb-c730da77d28e",
   "metadata": {
    "slideshow": {
     "slide_type": "-"
    }
   },
   "source": [
    "Do not worry about the code at this point. Just focus on the input and output in each example.\n"
   ]
  },
  {
   "cell_type": "markdown",
   "id": "9e6ba6a2-012a-445f-8787-abc1e9d7a800",
   "metadata": {
    "slideshow": {
     "slide_type": "slide"
    }
   },
   "source": [
    "#### Example 1: Predicting whether a patient has a liver disease or not"
   ]
  },
  {
   "cell_type": "markdown",
   "id": "928773b1-d9a0-4197-9933-6bc803e0a123",
   "metadata": {
    "slideshow": {
     "slide_type": "-"
    }
   },
   "source": [
    "##### Input data\n",
    "\n",
    "Suppose we are interested in predicting whether a patient has the disease or not. We are given some tabular data with inputs and outputs of liver patients, as shown below. The data contains a number of input features and a special column called \"Target\" which is the output we are interested in predicting. "
   ]
  },
  {
   "cell_type": "markdown",
   "id": "99bb7174-190b-4fbd-9f58-f66818a608ad",
   "metadata": {
    "slideshow": {
     "slide_type": "-"
    }
   },
   "source": [
    "Download the data from [here](https://www.kaggle.com/uciml/indian-liver-patient-records). \n"
   ]
  },
  {
   "cell_type": "code",
   "execution_count": null,
   "id": "86996f4a-2365-40d7-b3d0-cb67f511ee31",
   "metadata": {
    "slideshow": {
     "slide_type": "slide"
    },
    "tags": [
     "hide-input"
    ]
   },
   "outputs": [],
   "source": [
    "df = pd.read_csv(\"data/indian_liver_patient.csv\")\n",
    "df = df.drop(columns = [\"Gender\"])\n",
    "df[\"Dataset\"] = df[\"Dataset\"].replace(1, \"Disease\")\n",
    "df[\"Dataset\"] = df[\"Dataset\"].replace(2, \"No Disease\")\n",
    "df.rename(columns={\"Dataset\": \"Target\"}, inplace=True)\n",
    "train_df, test_df = train_test_split(df, test_size=4, random_state=42)\n",
    "train_df.head()"
   ]
  },
  {
   "cell_type": "markdown",
   "id": "f4427867-3135-45ec-b850-526d3a502317",
   "metadata": {
    "slideshow": {
     "slide_type": "slide"
    }
   },
   "source": [
    "##### Building a supervise machine learning model\n",
    "\n",
    "Let's train a supervised machine learning model with the input and output above. "
   ]
  },
  {
   "cell_type": "code",
   "execution_count": null,
   "id": "e82be94f-e169-41e7-93a4-124f692c82d3",
   "metadata": {
    "tags": []
   },
   "outputs": [],
   "source": [
    "from lightgbm.sklearn import LGBMClassifier\n",
    "\n",
    "X_train = train_df.drop(columns=[\"Target\"])\n",
    "y_train = train_df[\"Target\"]\n",
    "X_test = test_df.drop(columns=[\"Target\"])\n",
    "y_test = test_df[\"Target\"]\n",
    "model = LGBMClassifier(random_state=123)\n",
    "model.fit(X_train, y_train);"
   ]
  },
  {
   "cell_type": "markdown",
   "id": "e68d5fa1-2c73-4a99-9fc4-51bec777bf2a",
   "metadata": {
    "slideshow": {
     "slide_type": "slide"
    }
   },
   "source": [
    "##### Model predictions on unseen data\n",
    "\n",
    "- Given features of new patients below we'll use this model to predict whether these patients have the liver disease or not. "
   ]
  },
  {
   "cell_type": "code",
   "execution_count": null,
   "id": "df5916f4-c4c1-4a9d-b3ab-db7ca5b01f56",
   "metadata": {
    "slideshow": {
     "slide_type": "slide"
    },
    "tags": []
   },
   "outputs": [],
   "source": [
    "pred_df = pd.DataFrame({\"Predicted_target\": model.predict(X_test).tolist()})\n",
    "\n",
    "df_concat = pd.concat([pred_df, X_test.reset_index(drop=True)], axis=1)\n",
    "df_concat"
   ]
  },
  {
   "cell_type": "markdown",
   "id": "cc973f4b-00fa-4f35-a0c7-29d21cb97fed",
   "metadata": {},
   "source": [
    "<br><br>"
   ]
  },
  {
   "cell_type": "markdown",
   "id": "243bd5b3-2383-4426-a346-87dd5c61af42",
   "metadata": {
    "slideshow": {
     "slide_type": "slide"
    }
   },
   "source": [
    "#### Example 2: Predicting the label of a given image \n",
    "\n",
    "Suppose you want to predict the label of a given image using supervised machine learning. We are using a pre-trained model here to predict labels of new unseen images. "
   ]
  },
  {
   "cell_type": "code",
   "execution_count": null,
   "id": "61d0d419-54e3-4265-bcda-864dcb956bcb",
   "metadata": {
    "slideshow": {
     "slide_type": "slide"
    },
    "tags": []
   },
   "outputs": [],
   "source": [
    "from PIL import Image\n",
    "\n",
    "# Predict labels with associated probabilities for unseen images\n",
    "images = glob.glob(\"data/test_images/*.*\")\n",
    "for image in images:\n",
    "    img = Image.open(image)\n",
    "    img.load()\n",
    "    plt.imshow(img)\n",
    "    plt.show()\n",
    "    df = classify_image(img)\n",
    "    print(df.to_string(index=False))\n",
    "    print(\"--------------------------------------------------------------\")"
   ]
  },
  {
   "cell_type": "markdown",
   "id": "0ef72ad4-d842-4cec-a2a9-fbf67fd0e8d5",
   "metadata": {},
   "source": [
    "<br><br>"
   ]
  },
  {
   "cell_type": "markdown",
   "id": "ecf75098-7c3e-45b9-8073-318baf500003",
   "metadata": {
    "slideshow": {
     "slide_type": "slide"
    }
   },
   "source": [
    "#### Example 3: Predicting sentiment expressed in a movie review\n",
    "\n",
    "Suppose you are interested in predicting whether a given movie review is positive or negative. You can do it using **supervised machine learning**."
   ]
  },
  {
   "cell_type": "markdown",
   "id": "481fdad0-5006-4384-a0cb-0c5090b8133b",
   "metadata": {},
   "source": [
    "Download the data from [here](https://www.kaggle.com/utathya/imdb-review-dataset). "
   ]
  },
  {
   "cell_type": "code",
   "execution_count": null,
   "id": "3bc2a175-d33f-4c36-9cb1-6effc877abad",
   "metadata": {
    "slideshow": {
     "slide_type": "slide"
    },
    "tags": [
     "hide-input"
    ]
   },
   "outputs": [],
   "source": [
    "imdb_df = pd.read_csv(\"data/imdb_master.csv\", encoding=\"ISO-8859-1\")\n",
    "imdb_df = imdb_df[imdb_df[\"label\"].str.startswith((\"pos\", \"neg\"))]\n",
    "imdb_df = imdb_df.drop(columns = [\"Unnamed: 0\", \"type\", \"file\"])\n",
    "imdb_df.rename(columns={\"label\": \"target\"}, inplace=True)\n",
    "train_df, test_df = train_test_split(imdb_df, test_size=0.10, random_state=123)\n",
    "train_df.head().style.set_properties(**{\"text-align\": \"left\"})"
   ]
  },
  {
   "cell_type": "code",
   "execution_count": null,
   "id": "fc98c6ce-0fa2-4645-94ae-5dd501a1d994",
   "metadata": {
    "slideshow": {
     "slide_type": "slide"
    }
   },
   "outputs": [],
   "source": [
    "# Build an ML model\n",
    "X_train, y_train = train_df[\"review\"], train_df[\"target\"]\n",
    "X_test, y_test = test_df[\"review\"], test_df[\"target\"]\n",
    "\n",
    "clf = Pipeline(\n",
    "    [\n",
    "        (\"vect\", CountVectorizer(max_features=5000)),\n",
    "        (\"clf\", LogisticRegression(max_iter=5000)),\n",
    "    ]\n",
    ")\n",
    "clf.fit(X_train, y_train);"
   ]
  },
  {
   "cell_type": "code",
   "execution_count": null,
   "id": "3f345969-880e-4453-a1bf-7ad78fe98755",
   "metadata": {
    "slideshow": {
     "slide_type": "slide"
    }
   },
   "outputs": [],
   "source": [
    "# Predict on unseen data using the built model\n",
    "pred_dict = {\n",
    "    \"reviews\": X_test[0:4],\n",
    "    \"sentiment_predictions\": clf.predict(X_test[0:4]),\n",
    "}\n",
    "pred_df = pd.DataFrame(pred_dict)\n",
    "pred_df.style.set_properties(**{\"text-align\": \"left\"})"
   ]
  },
  {
   "cell_type": "markdown",
   "id": "10dad017-ca73-4833-a4cb-f3daea9ea909",
   "metadata": {},
   "source": [
    "<br><br>"
   ]
  },
  {
   "cell_type": "markdown",
   "id": "6c0991b3-c911-4fb7-96bd-5214a488beac",
   "metadata": {
    "slideshow": {
     "slide_type": "slide"
    }
   },
   "source": [
    "#### Example 4: Predicting housing prices\n",
    "\n",
    "Suppose we want to predict housing prices given a number of attributes associated with houses. "
   ]
  },
  {
   "cell_type": "markdown",
   "id": "54f23833-3765-425a-ae91-b2153bd6ff88",
   "metadata": {},
   "source": [
    "Download the data from [here](https://www.kaggle.com/harlfoxem/housesalesprediction). "
   ]
  },
  {
   "cell_type": "code",
   "execution_count": null,
   "id": "6b42804c-09df-4905-bab9-0ed09090cc32",
   "metadata": {
    "slideshow": {
     "slide_type": "slide"
    },
    "tags": [
     "hide-input"
    ]
   },
   "outputs": [],
   "source": [
    "df = pd.read_csv(\"data/kc_house_data.csv\")\n",
    "df = df.drop(columns = [\"id\", \"date\"])\n",
    "df.rename(columns={\"price\": \"target\"}, inplace=True)\n",
    "train_df, test_df = train_test_split(df, test_size=0.2, random_state=4)\n",
    "train_df.head()"
   ]
  },
  {
   "cell_type": "code",
   "execution_count": null,
   "id": "3c7669ee-891e-40d3-9d47-7b4e9d9e25b4",
   "metadata": {
    "slideshow": {
     "slide_type": "slide"
    }
   },
   "outputs": [],
   "source": [
    "# Build a regression model\n",
    "import xgboost as xgb\n",
    "from xgboost import XGBRegressor\n",
    "\n",
    "X_train, y_train = train_df.drop(columns= [\"target\"]), train_df[\"target\"]\n",
    "X_test, y_test = test_df.drop(columns= [\"target\"]), train_df[\"target\"]\n",
    "\n",
    "model = XGBRegressor()\n",
    "model.fit(X_train, y_train);"
   ]
  },
  {
   "cell_type": "code",
   "execution_count": null,
   "id": "86257c76-3e64-4f1d-858b-3f9023f01773",
   "metadata": {
    "slideshow": {
     "slide_type": "slide"
    }
   },
   "outputs": [],
   "source": [
    "# Predict on unseen examples using the built model\n",
    "pred_df = pd.DataFrame(\n",
    "    # {\"Predicted target\": model.predict(X_test[0:4]).tolist(), \"Actual price\": y_test[0:4].tolist()}\n",
    "    {\"Predicted_target\": model.predict(X_test[0:4]).tolist()}\n",
    ")\n",
    "df_concat = pd.concat([pred_df, X_test[0:4].reset_index(drop=True)], axis=1)\n",
    "df_concat"
   ]
  },
  {
   "cell_type": "raw",
   "id": "9f00f507-290d-4493-8643-97e718bb3fd3",
   "metadata": {},
   "source": []
  },
  {
   "cell_type": "markdown",
   "id": "c2105fe0-b32a-4c03-9eb4-e8f826cd2a55",
   "metadata": {},
   "source": [
    "| |\n",
    "|-|\n",
    "|To summarize, supervised machine learning can be used on a variety of problems and different kinds of data.|"
   ]
  },
  {
   "cell_type": "markdown",
   "id": "a2c8abb4-ab28-497c-9eb3-e808519147ce",
   "metadata": {},
   "source": [
    "<br><br>"
   ]
  },
  {
   "cell_type": "markdown",
   "id": "e8ce1ea7-4ec6-4c25-ac5b-5f13ca1a3ef5",
   "metadata": {
    "slideshow": {
     "slide_type": "slide"
    }
   },
   "source": [
    "### 🤔 Eva's questions\n",
    "\n",
    "At this point, Eva is wondering about many questions. \n",
    "\n",
    "- How are we exactly \"learning\" whether a message is spam and ham? \n",
    "- What do you mean by \"learn without being explicitly programmed\"? The code has to be somewhere ... \n",
    "- Are we expected to get correct predictions for all possible messages? How does it predict the label for a message it has not seen before?  \n",
    "- What if the model mis-labels an unseen example? For instance, what if the model incorrectly predicts a non-spam as a spam? What would be the consequences? \n",
    "- How do we measure the success or failure of spam identification? \n",
    "- If you want to use this model in the wild, how do you know how reliable it is?  \n",
    "- Would it be useful to know how confident the model is about the predictions rather than just a yes or a no?\n",
    "\n",
    "It's great to think about these questions right now. But Eva has to be patient. By the end of this course you'll know answers to many of these questions!  \n",
    "\n",
    "![](img/eva-qm.png)"
   ]
  },
  {
   "cell_type": "markdown",
   "id": "2ee4d99f-76dc-41c4-967d-32344bab1344",
   "metadata": {
    "slideshow": {
     "slide_type": "skip"
    }
   },
   "source": [
    "### Machine learning workflow \n",
    "\n",
    "Supervised machine learning is quite flexible; it can be used on a variety of problems and different kinds of data. Here is a typical workflow of a supervised machine learning systems.  \n",
    "\n",
    "![](img/ml-workflow.png)\n",
    "\n",
    "<!-- <img src=\"img/ml-workflow.png\" height=\"800\" width=\"800\">  -->\n",
    "\n",
    "\n",
    "We will build machine learning pipelines in this course, **focusing on some of the steps above**."
   ]
  },
  {
   "cell_type": "markdown",
   "id": "c72b1d04-3709-4dc9-8d6f-daea0b7a4224",
   "metadata": {},
   "source": [
    "<br><br>"
   ]
  },
  {
   "cell_type": "markdown",
   "id": "9d0cd6e5-30f1-4993-88b8-c6b5c955d93b",
   "metadata": {
    "slideshow": {
     "slide_type": "slide"
    }
   },
   "source": [
    "## ❓❓ Questions for you\n",
    "\n",
    "iClicker join links\n",
    "\n",
    "- CPSC 330 **911**\n",
    "  - https://join.iclicker.com/LFDB\n",
    "- CPSC 330 **912**\n",
    "  - https://join.iclicker.com/GJMY"
   ]
  },
  {
   "cell_type": "markdown",
   "id": "c0e02355-bf2b-491c-b32a-5253d080fdd7",
   "metadata": {},
   "source": [
    "### iClicker Exercise 1.1 \n",
    "\n",
    "**Select all of the following statements which are TRUE**\n",
    "\n",
    "- (A) Predicting spam is an example of machine learning. \n",
    "- (B) Predicting housing prices is not an example of machine learning. \n",
    "- (C) For problems such as spelling correction, translation, face recognition, spam identification, if you are a domain expert, it's usually faster and scalable to come up with a robust set of rules manually rather than building a machine learning model. \n",
    "- (D) If you are asked to write a program to find all prime numbers up to  a limit, it is better to implement one of the algorithms for doing so rather than using machine learning. \n",
    "- (E) Google News is likely be using machine learning to organize news. \n",
    "<br><br><br><br>"
   ]
  },
  {
   "cell_type": "markdown",
   "id": "ddccb330-76f0-405a-831d-83c9d08c1faa",
   "metadata": {},
   "source": [
    "<br><br>"
   ]
  },
  {
   "cell_type": "markdown",
   "id": "b87a1677-3645-4f6d-bbd2-2f6ff48817c3",
   "metadata": {
    "slideshow": {
     "slide_type": "slide"
    }
   },
   "source": [
    "## Survey (~5 min)\n",
    "\n",
    "- Please complete the anonymous restaurant survey on Qualtrics [here](https://ubc.ca1.qualtrics.com/jfe/form/SV_73VuZiuwM1eDVrw).\n",
    "  - We will try to analyze this data set in the coming weeks. "
   ]
  },
  {
   "cell_type": "markdown",
   "id": "b52fec7c-7db1-4952-a510-0335318b477f",
   "metadata": {
    "slideshow": {
     "slide_type": "skip"
    }
   },
   "source": [
    "<br><br>"
   ]
  },
  {
   "cell_type": "markdown",
   "id": "e0804333-230f-4db7-8d4e-6b250c214205",
   "metadata": {
    "slideshow": {
     "slide_type": "slide"
    }
   },
   "source": [
    "## Break (5 min)\n",
    "\n",
    "![](img/eva-coffee.png)\n",
    "\n",
    "- We will try to take a 5-minute break half way through every class."
   ]
  },
  {
   "cell_type": "markdown",
   "id": "e2bb61ff-844a-445c-8aae-1db566218f6f",
   "metadata": {},
   "source": [
    "<br><br><br><br>"
   ]
  },
  {
   "cell_type": "markdown",
   "id": "2d19b3bc-2e6d-4c2a-a1e2-e421b0e8be1b",
   "metadata": {
    "slideshow": {
     "slide_type": "slide"
    }
   },
   "source": [
    "## About this course"
   ]
  },
  {
   "cell_type": "markdown",
   "id": "51e758b6-8e05-42be-b2c4-014fa28f636b",
   "metadata": {
    "slideshow": {
     "slide_type": "slide"
    }
   },
   "source": [
    "### Course website "
   ]
  },
  {
   "cell_type": "markdown",
   "id": "7a600a1a-b340-4d6f-90d9-f23f081472c6",
   "metadata": {
    "slideshow": {
     "slide_type": "-"
    }
   },
   "source": [
    "[https://github.com/UBC-CS/cpsc330-2023s](https://github.com/UBC-CS/cpsc330-2023s) is the most important link. \n",
    "- Please read everything on there!\n",
    "- The **Syllabus quiz** will be available on Canvas"
   ]
  },
  {
   "cell_type": "markdown",
   "id": "46429e91-5824-46f8-bf24-9ce35456a225",
   "metadata": {
    "slideshow": {
     "slide_type": "slide"
    },
    "tags": []
   },
   "source": [
    "### CPSC 330 vs. 340\n",
    "\n",
    "Read [https://github.com/UBC-CS/cpsc330-2023s/blob/master/docs/330_vs_340.md](https://github.com/UBC-CS/cpsc330-2023s/blob/master/docs/330_vs_340.md)\n",
    "which explains the difference between two courses.  \n",
    "\n",
    "**TLDR:**\n",
    "\n",
    "- CPSC 340: how do ML models work?\n",
    "- CPSC 330: how do I use ML models?\n",
    "- CPSC 340 has many prerequisites. \n",
    "- CPSC 340 goes deeper but has a more narrow scope.\n",
    "- I think CPSC 330 will be more useful if you just plan to apply basic ML."
   ]
  },
  {
   "cell_type": "markdown",
   "id": "90a26e3f-f971-4cf2-a93d-de1bd021f56e",
   "metadata": {},
   "source": [
    "### Registration, waitlist and prerequisites"
   ]
  },
  {
   "cell_type": "markdown",
   "id": "e727e117-0784-410f-a04f-bde73c6dafb2",
   "metadata": {},
   "source": [
    "Please go through [this document](https://github.com/UBC-CS/cpsc330-2023s/blob/master/docs/course_info.md#registration) carefully before contacting me about these issues. Even then, I am very unlikely to be able to help with registration, waitlist or prerequisite issues."
   ]
  },
  {
   "cell_type": "markdown",
   "id": "ba9b2c16-c34e-4330-85c5-773ed74c5e11",
   "metadata": {
    "jp-MarkdownHeadingCollapsed": true,
    "tags": []
   },
   "source": [
    "### Course format\n",
    "\n",
    "- **In-person lectures**\n",
    "- Sometimes there will be videos to watch before or after the lectures.\n",
    "- First homework assignment is due this week (see the calendar).\n",
    "- You must do the first homework assignment on your own.\n",
    "- I'm hoping you'll be able to work with partners on subsequent assignments - pending the technology side of things.\n",
    "- Weekly tutorials will be **office hour format** run by the TAs and are **completely optional**.\n",
    "  - You do not need to be registered in a tutorial.\n",
    "  - You can attend whatever tutorials or office hours your want, regardless of in which/whether you're registered.\n",
    "  - If they are many people attending, students registered in a tutorial have priority.\n",
    "- The tutorials are hybrid meaning that you can attend in-person or online. \n",
    "  - Students attending in-person have priority. \n",
    "- We'll have one midterm and one final."
   ]
  },
  {
   "cell_type": "markdown",
   "id": "4d7729e8-4bc3-4288-8534-b0ba31097914",
   "metadata": {},
   "source": [
    "### Course calendar\n",
    "\n",
    "Here is our course Calendar. Make sure you check it on a regular basis: \n",
    "\n",
    "https://htmlpreview.github.io/?https://github.com/UBC-CS/cpsc330-2023s/blob/master/docs/calendar.html"
   ]
  },
  {
   "cell_type": "markdown",
   "id": "0ddfc521-1c47-4fcb-8878-96fd0f8b8e7f",
   "metadata": {},
   "source": [
    "### Course structure\n",
    "\n",
    "- Introduction\n",
    "- Part I: ML fundamentals and preprocessing \n",
    "  - midterm\n",
    "- Part II: Unsupervised learning, transfer learning, common special cases\n",
    "- Part III: Communication and ethics\n",
    "  - ML skills are not beneficial if you can't use them **responsibly** and **communicate** your results. In this module we'll talk about these aspects."
   ]
  },
  {
   "cell_type": "markdown",
   "id": "d66b85fe-a045-494e-9c71-1e564bf5fb44",
   "metadata": {},
   "source": [
    "### Code of conduct\n",
    "\n",
    "- Our main forum for getting help will be [Piazza](https://piazza.com/class/l2wy4l83juo5jo)."
   ]
  },
  {
   "cell_type": "markdown",
   "id": "cc012b7c-8853-41ab-9ab6-21655d105d4b",
   "metadata": {},
   "source": [
    "Please read [this entire document about asking for help](https://github.com/UBC-CS/cpsc330-2023s/blob/master/docs/asking_for_help.md).\n",
    "\n",
    "**TLDR:** Be nice."
   ]
  },
  {
   "cell_type": "markdown",
   "id": "b3d5ad3e-0674-40c7-952f-667cda66834c",
   "metadata": {
    "tags": []
   },
   "source": [
    "### Lecture and homework format: Jupyter notebooks\n",
    "\n",
    "- This document is a [Jupyter notebook](https://jupyter.org/), with file extension `.ipynb`.\n",
    "- Confusingly, \"Jupyter notebook\" is also the original application that opens `.ipynb` files - but has since been replaced by **Jupyter lab**.\n",
    "  - I am using Jupyter lab, some things might not work with the Jupyter notebook application.\n",
    "  - The course setup/install instructions include Jupyter lab.\n",
    "- Jupyter notebooks contain a mix of code, code output, markdown-formatted text (including LaTeX equations), and more.\n",
    "  - When you open a Jupyter notebook in one of these apps, the document is \"live\", meaning you can run the code.\n",
    "  - For example:"
   ]
  },
  {
   "cell_type": "code",
   "execution_count": null,
   "id": "453bbce3-884e-42fc-a4c2-6f1649a320fe",
   "metadata": {
    "tags": []
   },
   "outputs": [],
   "source": [
    "1 + 1"
   ]
  },
  {
   "cell_type": "code",
   "execution_count": null,
   "id": "d475a094-3541-4d80-b229-67dd72e101ed",
   "metadata": {},
   "outputs": [],
   "source": [
    "x = [1, 2, 3]\n",
    "x[0] = 9999\n",
    "x"
   ]
  },
  {
   "cell_type": "markdown",
   "id": "bf4f07e1-23f4-4bb7-9f26-9a10dbe5a3fb",
   "metadata": {},
   "source": [
    "- By default, Jupyter prints out the result of the last line of code, so you don't need as many `print` statements.\n",
    "- In addition to the \"live\" notebooks, Jupyter notebooks can be statically rendered in the web browser, e.g. [this](https://github.com/UBC-CS/cpsc330-2023s/blob/master/lectures/01_intro.ipynb).\n",
    "  - This can be convenient for quick read-only access, without needing to launch the Jupyter notebook/lab application.\n",
    "  - But you need to launch the app properly to interact with the notebooks.\n",
    "\n"
   ]
  },
  {
   "cell_type": "markdown",
   "id": "60877dd9-c8c5-4c90-843b-fe69fca59ccc",
   "metadata": {},
   "source": [
    "### Lecture style\n",
    "\n",
    "- Lots of code snippets in Jupyter.\n",
    "- There will be some [YouTube videos](https://www.youtube.com/channel/UC40oUwJPrUmhsYdURk8OjqA) to watch before or during the lecture. \n",
    "- We will also try to work on some questions and exercises together during the class. \n",
    "- All materials will be posted on the course website and [this Jupyter book](file:///Users/kvarada/CS/2021-22/330/cpsc330/_build/html/README.html). "
   ]
  },
  {
   "cell_type": "markdown",
   "id": "75d14eaa-d74b-4b4a-a363-5c2a11fac318",
   "metadata": {},
   "source": [
    "#### Lecture notes\n",
    "\n",
    "- All the lectures provided here are initially from last year.\n",
    "- I update the lectures as we make progress.\n",
    "- A \"finalized\" version will be pushed to [GitHub](https://github.com/UBC-CS/cpsc330-2023s) before each lecture.\n",
    "- There a [Jupyter book](https://ubc-cs.github.io/cpsc330/README.html) version available from last year as well."
   ]
  },
  {
   "cell_type": "markdown",
   "id": "d8c9d1ba-2390-4e34-b4b4-fb80f7310090",
   "metadata": {},
   "source": [
    "### Grades\n",
    "\n",
    "- The grading breakdown is [here](https://github.com/UBC-CS/cpsc330-2023s/blob/master/docs/course_info.md#grading). \n",
    "- The policy on challenging grades is [here](https://github.com/UBC-CS/cpsc330-2023s/blob/master/docs/grades.md)."
   ]
  },
  {
   "cell_type": "markdown",
   "id": "67c9ed5b-40b7-4d4e-ba2c-c8bc8ead18f5",
   "metadata": {
    "slideshow": {
     "slide_type": "slide"
    }
   },
   "source": [
    "## Setting up your computer for the course "
   ]
  },
  {
   "cell_type": "markdown",
   "id": "1cfacc42-27a3-419e-a980-37a84a6f33e0",
   "metadata": {},
   "source": [
    "### Activity\n",
    "\n",
    "In this course, we will primarily be using Python, git, GitHub, Canvas, Gradescope, and Piazza. Let's set up your computers for the course. \n",
    "\n",
    "- Follow the setup instructions [here](https://ubc-cs.github.io/cpsc330/docs/setup.html) to create a course conda environment on your computer. \n",
    "- If you do not have your computer with you, you can partner up with someone and set up your own computer later.  \n",
    "- We are available to answer your questions."
   ]
  },
  {
   "cell_type": "markdown",
   "id": "116b65cb-bbe4-45ca-99f3-a60189ae482d",
   "metadata": {},
   "source": [
    "### Python requirements/resources\n",
    "\n",
    "We will primarily use Python in this course.\n",
    "\n",
    "Here is the basic Python knowledge you'll need for the course: \n",
    "\n",
    "- Basic Python programming\n",
    "- Numpy\n",
    "- Pandas\n",
    "- Basic matplotlib\n",
    "- Sparse matrices\n",
    "\n",
    "Some of you will already know Python, others won't. **Homework 1 is all about Python**."
   ]
  },
  {
   "cell_type": "markdown",
   "id": "41b879b9-bca7-4128-a166-e626b66bee36",
   "metadata": {
    "slideshow": {
     "slide_type": "slide"
    }
   },
   "source": [
    "We do not have time to teach all the Python we need \n",
    "but you can find some useful Python resources [here](https://github.com/UBC-CS/cpsc330-2023s/blob/master/docs/resources.md).  \n"
   ]
  },
  {
   "cell_type": "markdown",
   "id": "eeba1ffa-7593-4bda-bb3f-849c8e518c3a",
   "metadata": {},
   "source": [
    "<br><br>"
   ]
  },
  {
   "cell_type": "markdown",
   "id": "d982a2b5-1141-4926-b739-7a7fb6f315e5",
   "metadata": {
    "tags": []
   },
   "source": [
    "### Checklist for you before the next class\n",
    "\n",
    "- [ ] Are you able to access course [Canvas](https://canvas.ubc.ca/courses/78046) shell? \n",
    "- [ ] Are you able to access [Gradescope](https://www.gradescope.ca/courses/5032)? (If not, refer to the [Gradescope Student Guide](https://lthub.ubc.ca/guides/gradescope-student-guide/).)\n",
    "- [ ] Are you able to access [course Piazza](https://piazza.com/class/l2wy4l83juo5jo)?\n",
    "- [ ] Did you follow the setup instructions [here](https://ubc-cs.github.io/cpsc330/docs/setup.html) to create a course conda environment on your computer?\n",
    "- [ ] Did you complete the anonymous [restaurant survey on Qualtrics](https://ubc.ca1.qualtrics.com/jfe/form/SV_73VuZiuwM1eDVrw)?\n",
    "- [ ] Did you complete the syllabus quiz on Canvas?"
   ]
  },
  {
   "cell_type": "markdown",
   "id": "f93b1c65-70e7-41ba-b6a2-df7ed4aadcca",
   "metadata": {},
   "source": [
    "<br><br>"
   ]
  },
  {
   "cell_type": "markdown",
   "id": "8ccc0f47-fb09-4dbb-84aa-ba1469212f96",
   "metadata": {},
   "source": [
    "<br><br>"
   ]
  },
  {
   "cell_type": "markdown",
   "id": "a6271913-db05-4bc5-ae70-6af1bb628133",
   "metadata": {},
   "source": [
    "## Summary\n",
    "\n",
    "- Machine learning is a different paradigm for problem solving.    \n",
    "- Very often it reduces the time you spend programming and helps customizing and scaling your products. \n",
    "- In supervised learning we are given a set of observations ($X$) and their corresponding targets ($y$) and we wish to find a model function $f$ that relates $X$ to $y$.\n",
    "- You should be ready with the technology stack on your laptop now. If you were not able to do it during lecture time or you ran into trouble, post on Piazza or attend one of the tutorials or office hours. \n",
    "- Carefully read the course website. Make sure to complete the survey.\n",
    "- **The teaching team is here to help you learn the material and succeed in the course!**\n",
    "- Let's have fun learning this material together!\n"
   ]
  },
  {
   "cell_type": "markdown",
   "id": "9a5db5d1-c432-41f4-a96c-7b64433591ff",
   "metadata": {},
   "source": [
    "![](img/eva-seeyou.png)"
   ]
  }
 ],
 "metadata": {
  "kernelspec": {
   "display_name": "Python [conda env:cpsc330]",
   "language": "python",
   "name": "conda-env-cpsc330-py"
  },
  "language_info": {
   "codemirror_mode": {
    "name": "ipython",
    "version": 3
   },
   "file_extension": ".py",
   "mimetype": "text/x-python",
   "name": "python",
   "nbconvert_exporter": "python",
   "pygments_lexer": "ipython3",
   "version": "3.10.11"
  }
 },
 "nbformat": 4,
 "nbformat_minor": 5
}
